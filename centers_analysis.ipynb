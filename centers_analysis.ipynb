{
 "cells": [
  {
   "cell_type": "code",
   "execution_count": 1,
   "metadata": {},
   "outputs": [],
   "source": [
    "import pandas as pd\n",
    "import gmaps\n",
    "\n",
    "# NEED TO SET UP API KEYS\n",
    "# Let 'gkey' be the Google maps api key\n",
    "# Let 'ckey' be the census api key\n",
    "\n",
    "from config import gkey"
   ]
  },
  {
   "cell_type": "code",
   "execution_count": 2,
   "metadata": {},
   "outputs": [],
   "source": [
    "# First, we need to clean the horribly formatted initial dataset into something usable.\n",
    "\n",
    "path = 'resources/centers-uncleaned.csv'\n",
    "with open(path, 'r') as csv_file:\n",
    "    output = csv_file.read()\n",
    "output = output.split('\\n')\n",
    "\n",
    "all_name = []\n",
    "all_city = []\n",
    "all_state = []\n",
    "all_zip = []\n",
    "\n",
    "for i in range(len(output)):\n",
    "    info = output[i].split(';')\n",
    "    try:\n",
    "        name = info[1]\n",
    "        # This loop searches for any entry that looks like a city / state / zip combination; if one is found it's saved, otherwise we ignore that row, since we don't have any useful information about that center.\n",
    "        for j in range(2, len(info) + 1):\n",
    "            try:\n",
    "                if(all(x in '1234567890' for x in info[j][-5:])):\n",
    "                    area = info[j]\n",
    "                    break\n",
    "            except:\n",
    "                pass\n",
    "        \n",
    "        city = area.split(',')[0]\n",
    "        state = area.split(',')[1][1:].split()[0]\n",
    "        zipcode = area.split(',')[1][1:].split()[1]\n",
    "        all_name.append(name)\n",
    "        all_city.append(city)\n",
    "        all_state.append(state)\n",
    "        all_zip.append(zipcode)\n",
    "    except:\n",
    "        pass"
   ]
  },
  {
   "cell_type": "code",
   "execution_count": 3,
   "metadata": {},
   "outputs": [],
   "source": [
    "# Create a nicely formatted dataframe to work with\n",
    "\n",
    "centers_df = pd.DataFrame({'Name' : all_name, 'City' : all_city, 'State' : all_state, 'Zip' : all_zip})\n",
    "\n",
    "zips_df = pd.read_csv('resources/zips.csv', dtype = {'ZIP' : 'str'})\n",
    "zips_df = zips_df.rename(columns = {'ZIP' : 'Zip', 'LAT' : 'Lat', 'LNG' : 'Lon'})\n",
    "centers_df = centers_df.merge(zips_df, on = 'Zip', how = 'inner')\n",
    "\n",
    "out_path = 'resources/centers.csv'\n",
    "centers_df.to_csv(out_path)"
   ]
  },
  {
   "cell_type": "code",
   "execution_count": 4,
   "metadata": {},
   "outputs": [
    {
     "data": {
      "text/html": [
       "<div>\n",
       "<style scoped>\n",
       "    .dataframe tbody tr th:only-of-type {\n",
       "        vertical-align: middle;\n",
       "    }\n",
       "\n",
       "    .dataframe tbody tr th {\n",
       "        vertical-align: top;\n",
       "    }\n",
       "\n",
       "    .dataframe thead th {\n",
       "        text-align: right;\n",
       "    }\n",
       "</style>\n",
       "<table border=\"1\" class=\"dataframe\">\n",
       "  <thead>\n",
       "    <tr style=\"text-align: right;\">\n",
       "      <th></th>\n",
       "      <th>Name</th>\n",
       "      <th>City</th>\n",
       "      <th>State</th>\n",
       "      <th>Zip</th>\n",
       "      <th>Lat</th>\n",
       "      <th>Lon</th>\n",
       "    </tr>\n",
       "  </thead>\n",
       "  <tbody>\n",
       "    <tr>\n",
       "      <th>0</th>\n",
       "      <td>Henry County Day Treatment</td>\n",
       "      <td>Abbeville</td>\n",
       "      <td>AL</td>\n",
       "      <td>36310</td>\n",
       "      <td>31.595148</td>\n",
       "      <td>-85.208852</td>\n",
       "    </tr>\n",
       "    <tr>\n",
       "      <th>1</th>\n",
       "      <td>SpectraCare</td>\n",
       "      <td>Abbeville</td>\n",
       "      <td>AL</td>\n",
       "      <td>36310</td>\n",
       "      <td>31.595148</td>\n",
       "      <td>-85.208852</td>\n",
       "    </tr>\n",
       "    <tr>\n",
       "      <th>2</th>\n",
       "      <td>Rehab Day Montezuma Complex</td>\n",
       "      <td>Andalusia</td>\n",
       "      <td>AL</td>\n",
       "      <td>36420</td>\n",
       "      <td>31.172401</td>\n",
       "      <td>-86.565077</td>\n",
       "    </tr>\n",
       "    <tr>\n",
       "      <th>3</th>\n",
       "      <td>South Central Alabama CMHC</td>\n",
       "      <td>Andalusia</td>\n",
       "      <td>AL</td>\n",
       "      <td>36420</td>\n",
       "      <td>31.172401</td>\n",
       "      <td>-86.565077</td>\n",
       "    </tr>\n",
       "    <tr>\n",
       "      <th>4</th>\n",
       "      <td>Grandview Behavioral Health Center</td>\n",
       "      <td>Anniston</td>\n",
       "      <td>AL</td>\n",
       "      <td>36201</td>\n",
       "      <td>33.649160</td>\n",
       "      <td>-85.879642</td>\n",
       "    </tr>\n",
       "  </tbody>\n",
       "</table>\n",
       "</div>"
      ],
      "text/plain": [
       "                                 Name       City State    Zip        Lat  \\\n",
       "0          Henry County Day Treatment  Abbeville    AL  36310  31.595148   \n",
       "1                         SpectraCare  Abbeville    AL  36310  31.595148   \n",
       "2         Rehab Day Montezuma Complex  Andalusia    AL  36420  31.172401   \n",
       "3          South Central Alabama CMHC  Andalusia    AL  36420  31.172401   \n",
       "4  Grandview Behavioral Health Center   Anniston    AL  36201  33.649160   \n",
       "\n",
       "         Lon  \n",
       "0 -85.208852  \n",
       "1 -85.208852  \n",
       "2 -86.565077  \n",
       "3 -86.565077  \n",
       "4 -85.879642  "
      ]
     },
     "execution_count": 4,
     "metadata": {},
     "output_type": "execute_result"
    }
   ],
   "source": [
    "centers_df.head()"
   ]
  },
  {
   "cell_type": "code",
   "execution_count": 5,
   "metadata": {},
   "outputs": [],
   "source": [
    "gmaps.configure(api_key = gkey)"
   ]
  },
  {
   "cell_type": "code",
   "execution_count": 13,
   "metadata": {},
   "outputs": [
    {
     "data": {
      "application/vnd.jupyter.widget-view+json": {
       "model_id": "cdafd2c21787416f95f1789a3d9a53c0",
       "version_major": 2,
       "version_minor": 0
      },
      "text/plain": [
       "Figure(layout=FigureLayout(height='420px'))"
      ]
     },
     "metadata": {},
     "output_type": "display_data"
    }
   ],
   "source": [
    "locations = centers_df[['Lat', 'Lon']].drop_duplicates()\n",
    "fig = gmaps.figure()\n",
    "num_centers = centers_df.groupby(by = 'Zip').count()['Name']\n",
    "heat_layer = gmaps.heatmap_layer(locations, weights = num_centers, max_intensity = 100)\n",
    "fig.add_layer(heat_layer)\n",
    "fig"
   ]
  },
  {
   "cell_type": "code",
   "execution_count": null,
   "metadata": {},
   "outputs": [],
   "source": []
  }
 ],
 "metadata": {
  "kernelspec": {
   "display_name": "Python 3",
   "language": "python",
   "name": "python3"
  },
  "language_info": {
   "codemirror_mode": {
    "name": "ipython",
    "version": 3
   },
   "file_extension": ".py",
   "mimetype": "text/x-python",
   "name": "python",
   "nbconvert_exporter": "python",
   "pygments_lexer": "ipython3",
   "version": "3.6.7"
  }
 },
 "nbformat": 4,
 "nbformat_minor": 2
}
