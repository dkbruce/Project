{
 "cells": [
  {
   "cell_type": "code",
   "execution_count": 1,
   "metadata": {},
   "outputs": [],
   "source": [
    "import pandas as pd\n",
    "import gmaps\n",
    "import gmaps.geojson_geometries\n",
    "from matplotlib.cm import magma\n",
    "from matplotlib.colors import to_hex\n",
    "import requests\n",
    "\n",
    "\n",
    "# NEED TO SET UP API KEYS\n",
    "# Let 'gkey' in config be the Google maps api key\n",
    "\n",
    "from config import gkey"
   ]
  },
  {
   "cell_type": "code",
   "execution_count": 2,
   "metadata": {},
   "outputs": [],
   "source": [
    "# First, we need to clean the horribly formatted initial dataset into something usable.\n",
    "\n",
    "path = 'resources/centers-uncleaned.csv'\n",
    "with open(path, 'r') as csv_file:\n",
    "    output = csv_file.read()\n",
    "output = output.split('\\n')\n",
    "\n",
    "all_name = []\n",
    "all_city = []\n",
    "all_state = []\n",
    "all_zip = []\n",
    "\n",
    "for i in range(len(output)):\n",
    "    info = output[i].split(';')\n",
    "    try:\n",
    "        name = info[1]\n",
    "        # This loop searches for any entry that looks like a city / state / zip combination; if one is found it's saved, otherwise we ignore that row, since we don't have any useful information about that center.\n",
    "        for j in range(2, len(info) + 1):\n",
    "            try:\n",
    "                if(all(x in '1234567890' for x in info[j][-5:])):\n",
    "                    area = info[j]\n",
    "                    break\n",
    "            except:\n",
    "                pass\n",
    "        \n",
    "        city = area.split(',')[0]\n",
    "        state = area.split(',')[1][1:].split()[0]\n",
    "        zipcode = area.split(',')[1][1:].split()[1]\n",
    "        all_name.append(name)\n",
    "        all_city.append(city)\n",
    "        all_state.append(state)\n",
    "        all_zip.append(zipcode)\n",
    "    except:\n",
    "        pass"
   ]
  },
  {
   "cell_type": "code",
   "execution_count": 3,
   "metadata": {},
   "outputs": [],
   "source": [
    "# Create a nicely formatted dataframe to work with\n",
    "\n",
    "centers_df = pd.DataFrame({'Name' : all_name, 'City' : all_city, 'State' : all_state, 'Zip' : all_zip})\n",
    "\n",
    "zips_df = pd.read_csv('resources/zips.csv', dtype = {'ZIP' : 'str'})\n",
    "zips_df = zips_df.rename(columns = {'ZIP' : 'Zip', 'LAT' : 'Lat', 'LNG' : 'Lon'})\n",
    "centers_df = centers_df.merge(zips_df, on = 'Zip', how = 'inner')\n",
    "\n",
    "out_path = 'resources/centers.csv'\n",
    "centers_df.to_csv(out_path)"
   ]
  },
  {
   "cell_type": "code",
   "execution_count": 4,
   "metadata": {},
   "outputs": [
    {
     "data": {
      "text/html": [
       "<div>\n",
       "<style scoped>\n",
       "    .dataframe tbody tr th:only-of-type {\n",
       "        vertical-align: middle;\n",
       "    }\n",
       "\n",
       "    .dataframe tbody tr th {\n",
       "        vertical-align: top;\n",
       "    }\n",
       "\n",
       "    .dataframe thead th {\n",
       "        text-align: right;\n",
       "    }\n",
       "</style>\n",
       "<table border=\"1\" class=\"dataframe\">\n",
       "  <thead>\n",
       "    <tr style=\"text-align: right;\">\n",
       "      <th></th>\n",
       "      <th>Name</th>\n",
       "      <th>City</th>\n",
       "      <th>State</th>\n",
       "      <th>Zip</th>\n",
       "      <th>Lat</th>\n",
       "      <th>Lon</th>\n",
       "    </tr>\n",
       "  </thead>\n",
       "  <tbody>\n",
       "    <tr>\n",
       "      <th>0</th>\n",
       "      <td>Henry County Day Treatment</td>\n",
       "      <td>Abbeville</td>\n",
       "      <td>AL</td>\n",
       "      <td>36310</td>\n",
       "      <td>31.595148</td>\n",
       "      <td>-85.208852</td>\n",
       "    </tr>\n",
       "    <tr>\n",
       "      <th>1</th>\n",
       "      <td>SpectraCare</td>\n",
       "      <td>Abbeville</td>\n",
       "      <td>AL</td>\n",
       "      <td>36310</td>\n",
       "      <td>31.595148</td>\n",
       "      <td>-85.208852</td>\n",
       "    </tr>\n",
       "    <tr>\n",
       "      <th>2</th>\n",
       "      <td>Rehab Day Montezuma Complex</td>\n",
       "      <td>Andalusia</td>\n",
       "      <td>AL</td>\n",
       "      <td>36420</td>\n",
       "      <td>31.172401</td>\n",
       "      <td>-86.565077</td>\n",
       "    </tr>\n",
       "    <tr>\n",
       "      <th>3</th>\n",
       "      <td>South Central Alabama CMHC</td>\n",
       "      <td>Andalusia</td>\n",
       "      <td>AL</td>\n",
       "      <td>36420</td>\n",
       "      <td>31.172401</td>\n",
       "      <td>-86.565077</td>\n",
       "    </tr>\n",
       "    <tr>\n",
       "      <th>4</th>\n",
       "      <td>Grandview Behavioral Health Center</td>\n",
       "      <td>Anniston</td>\n",
       "      <td>AL</td>\n",
       "      <td>36201</td>\n",
       "      <td>33.649160</td>\n",
       "      <td>-85.879642</td>\n",
       "    </tr>\n",
       "  </tbody>\n",
       "</table>\n",
       "</div>"
      ],
      "text/plain": [
       "                                 Name       City State    Zip        Lat  \\\n",
       "0          Henry County Day Treatment  Abbeville    AL  36310  31.595148   \n",
       "1                         SpectraCare  Abbeville    AL  36310  31.595148   \n",
       "2         Rehab Day Montezuma Complex  Andalusia    AL  36420  31.172401   \n",
       "3          South Central Alabama CMHC  Andalusia    AL  36420  31.172401   \n",
       "4  Grandview Behavioral Health Center   Anniston    AL  36201  33.649160   \n",
       "\n",
       "         Lon  \n",
       "0 -85.208852  \n",
       "1 -85.208852  \n",
       "2 -86.565077  \n",
       "3 -86.565077  \n",
       "4 -85.879642  "
      ]
     },
     "execution_count": 4,
     "metadata": {},
     "output_type": "execute_result"
    }
   ],
   "source": [
    "centers_df.head()"
   ]
  },
  {
   "cell_type": "code",
   "execution_count": 5,
   "metadata": {},
   "outputs": [],
   "source": [
    "gmaps.configure(api_key = gkey)"
   ]
  },
  {
   "cell_type": "code",
   "execution_count": 10,
   "metadata": {},
   "outputs": [
    {
     "data": {
      "application/vnd.jupyter.widget-view+json": {
       "model_id": "98b512313b344a9599096c088610aeed",
       "version_major": 2,
       "version_minor": 0
      },
      "text/plain": [
       "Figure(layout=FigureLayout(height='420px'))"
      ]
     },
     "metadata": {},
     "output_type": "display_data"
    }
   ],
   "source": [
    "locations = centers_df[['Lat', 'Lon']].drop_duplicates()\n",
    "fig = gmaps.figure()\n",
    "num_centers = centers_df.groupby(by = 'Zip').count()['Name']\n",
    "heat_layer = gmaps.heatmap_layer(locations, weights = num_centers, max_intensity = 85, point_radius = 6)\n",
    "fig.add_layer(heat_layer)\n",
    "fig"
   ]
  },
  {
   "cell_type": "code",
   "execution_count": 7,
   "metadata": {},
   "outputs": [
    {
     "data": {
      "text/plain": [
       "State\n",
       "AK     80\n",
       "AL    133\n",
       "AR    204\n",
       "AZ    305\n",
       "CA    670\n",
       "Name: Name, dtype: int64"
      ]
     },
     "execution_count": 7,
     "metadata": {},
     "output_type": "execute_result"
    }
   ],
   "source": [
    "state_df = centers_df.loc[~centers_df['State'].isin(['GU', 'VI', 'AS'])].groupby(by = 'State')['Name'].count()\n",
    "state_df.to_csv('resources/centers_bystate.csv')\n",
    "state_df.head()"
   ]
  },
  {
   "cell_type": "code",
   "execution_count": 8,
   "metadata": {},
   "outputs": [],
   "source": [
    "# this block is to order the states in the weird order that is needed for the state_geojson in the next block, so that they can be colored properly.\n",
    "\n",
    "url = 'https://s3-eu-west-1.amazonaws.com/jupyter-gmaps-examples/us-states.geo.json'\n",
    "weird_order = requests.get(url).json()\n",
    "states_order = []\n",
    "for i in range(52):\n",
    "    states_order.append(weird_order['features'][i]['properties']['NAME'])\n",
    "    \n",
    "us_state_abbrev = {\n",
    "    'Alabama': 'AL',\n",
    "    'Alaska': 'AK',\n",
    "    'Arizona': 'AZ',\n",
    "    'Arkansas': 'AR',\n",
    "    'California': 'CA',\n",
    "    'Colorado': 'CO',\n",
    "    'Connecticut': 'CT',\n",
    "    'Delaware': 'DE',\n",
    "    'District of Columbia' : 'DC',\n",
    "    'Florida': 'FL',\n",
    "    'Georgia': 'GA',\n",
    "    'Hawaii': 'HI',\n",
    "    'Idaho': 'ID',\n",
    "    'Illinois': 'IL',\n",
    "    'Indiana': 'IN',\n",
    "    'Iowa': 'IA',\n",
    "    'Kansas': 'KS',\n",
    "    'Kentucky': 'KY',\n",
    "    'Louisiana': 'LA',\n",
    "    'Maine': 'ME',\n",
    "    'Maryland': 'MD',\n",
    "    'Massachusetts': 'MA',\n",
    "    'Michigan': 'MI',\n",
    "    'Minnesota': 'MN',\n",
    "    'Mississippi': 'MS',\n",
    "    'Missouri': 'MO',\n",
    "    'Montana': 'MT',\n",
    "    'Nebraska': 'NE',\n",
    "    'Nevada': 'NV',\n",
    "    'New Hampshire': 'NH',\n",
    "    'New Jersey': 'NJ',\n",
    "    'New Mexico': 'NM',\n",
    "    'New York': 'NY',\n",
    "    'North Carolina': 'NC',\n",
    "    'North Dakota': 'ND',\n",
    "    'Ohio': 'OH',\n",
    "    'Oklahoma': 'OK',\n",
    "    'Oregon': 'OR',\n",
    "    'Pennsylvania': 'PA',\n",
    "    'Puerto Rico' : 'PR',\n",
    "    'Rhode Island': 'RI',\n",
    "    'South Carolina': 'SC',\n",
    "    'South Dakota': 'SD',\n",
    "    'Tennessee': 'TN',\n",
    "    'Texas': 'TX',\n",
    "    'Utah': 'UT',\n",
    "    'Vermont': 'VT',\n",
    "    'Virginia': 'VA',\n",
    "    'Washington': 'WA',\n",
    "    'West Virginia': 'WV',\n",
    "    'Wisconsin': 'WI',\n",
    "    'Wyoming': 'WY',\n",
    "}\n",
    "\n",
    "state_order_abbr = []\n",
    "for state in states_order:\n",
    "    state_order_abbr.append(us_state_abbrev[state])"
   ]
  },
  {
   "cell_type": "code",
   "execution_count": 9,
   "metadata": {
    "scrolled": true
   },
   "outputs": [
    {
     "data": {
      "application/vnd.jupyter.widget-view+json": {
       "model_id": "5175f1dabe2646919b662eb102e7691e",
       "version_major": 2,
       "version_minor": 0
      },
      "text/plain": [
       "Figure(layout=FigureLayout(height='420px'))"
      ]
     },
     "metadata": {},
     "output_type": "display_data"
    }
   ],
   "source": [
    "state_geojson = gmaps.geojson_geometries.load_geometry('us-states')\n",
    "fig = gmaps.figure()\n",
    "min_centers = int(min(state_df))\n",
    "max_centers = int(max(state_df))\n",
    "range_centers = max_centers - min_centers\n",
    "\n",
    "def calculate_color(count):\n",
    "    normalized = (int(count) - min_centers) / range_centers\n",
    "    mpl_color = magma(normalized)\n",
    "    gmaps_color = to_hex(mpl_color, keep_alpha = False)\n",
    "    return gmaps_color\n",
    "\n",
    "colors = []\n",
    "\n",
    "for state in state_order_abbr:\n",
    "    colors.append(calculate_color(state_df[state]))\n",
    "\n",
    "centers_layer = gmaps.geojson_layer(state_geojson, fill_color = colors, stroke_color = colors, fill_opacity = 0.8)\n",
    "fig.add_layer(centers_layer)\n",
    "fig"
   ]
  },
  {
   "cell_type": "code",
   "execution_count": null,
   "metadata": {},
   "outputs": [],
   "source": []
  }
 ],
 "metadata": {
  "kernelspec": {
   "display_name": "Python 3",
   "language": "python",
   "name": "python3"
  },
  "language_info": {
   "codemirror_mode": {
    "name": "ipython",
    "version": 3
   },
   "file_extension": ".py",
   "mimetype": "text/x-python",
   "name": "python",
   "nbconvert_exporter": "python",
   "pygments_lexer": "ipython3",
   "version": "3.6.7"
  }
 },
 "nbformat": 4,
 "nbformat_minor": 2
}
