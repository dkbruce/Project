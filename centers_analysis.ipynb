{
 "cells": [
  {
   "cell_type": "code",
   "execution_count": 1,
   "metadata": {},
   "outputs": [],
   "source": [
    "import pandas as pd\n",
    "import gmaps\n",
    "import gmaps.geojson_geometries\n",
    "\n",
    "# NEED TO SET UP API KEYS\n",
    "# Let 'gkey' be the Google maps api key\n",
    "\n",
    "from config import gkey"
   ]
  },
  {
   "cell_type": "code",
   "execution_count": 2,
   "metadata": {},
   "outputs": [],
   "source": [
    "# First, we need to clean the horribly formatted initial dataset into something usable.\n",
    "\n",
    "path = 'resources/centers-uncleaned.csv'\n",
    "with open(path, 'r') as csv_file:\n",
    "    output = csv_file.read()\n",
    "output = output.split('\\n')\n",
    "\n",
    "all_name = []\n",
    "all_city = []\n",
    "all_state = []\n",
    "all_zip = []\n",
    "\n",
    "for i in range(len(output)):\n",
    "    info = output[i].split(';')\n",
    "    try:\n",
    "        name = info[1]\n",
    "        # This loop searches for any entry that looks like a city / state / zip combination; if one is found it's saved, otherwise we ignore that row, since we don't have any useful information about that center.\n",
    "        for j in range(2, len(info) + 1):\n",
    "            try:\n",
    "                if(all(x in '1234567890' for x in info[j][-5:])):\n",
    "                    area = info[j]\n",
    "                    break\n",
    "            except:\n",
    "                pass\n",
    "        \n",
    "        city = area.split(',')[0]\n",
    "        state = area.split(',')[1][1:].split()[0]\n",
    "        zipcode = area.split(',')[1][1:].split()[1]\n",
    "        all_name.append(name)\n",
    "        all_city.append(city)\n",
    "        all_state.append(state)\n",
    "        all_zip.append(zipcode)\n",
    "    except:\n",
    "        pass"
   ]
  },
  {
   "cell_type": "code",
   "execution_count": 3,
   "metadata": {},
   "outputs": [],
   "source": [
    "# Create a nicely formatted dataframe to work with\n",
    "\n",
    "centers_df = pd.DataFrame({'Name' : all_name, 'City' : all_city, 'State' : all_state, 'Zip' : all_zip})\n",
    "\n",
    "zips_df = pd.read_csv('resources/zips.csv', dtype = {'ZIP' : 'str'})\n",
    "zips_df = zips_df.rename(columns = {'ZIP' : 'Zip', 'LAT' : 'Lat', 'LNG' : 'Lon'})\n",
    "centers_df = centers_df.merge(zips_df, on = 'Zip', how = 'inner')\n",
    "\n",
    "out_path = 'resources/centers.csv'\n",
    "centers_df.to_csv(out_path)"
   ]
  },
  {
   "cell_type": "code",
   "execution_count": 4,
   "metadata": {},
   "outputs": [
    {
     "data": {
      "text/html": [
       "<div>\n",
       "<style scoped>\n",
       "    .dataframe tbody tr th:only-of-type {\n",
       "        vertical-align: middle;\n",
       "    }\n",
       "\n",
       "    .dataframe tbody tr th {\n",
       "        vertical-align: top;\n",
       "    }\n",
       "\n",
       "    .dataframe thead th {\n",
       "        text-align: right;\n",
       "    }\n",
       "</style>\n",
       "<table border=\"1\" class=\"dataframe\">\n",
       "  <thead>\n",
       "    <tr style=\"text-align: right;\">\n",
       "      <th></th>\n",
       "      <th>Name</th>\n",
       "      <th>City</th>\n",
       "      <th>State</th>\n",
       "      <th>Zip</th>\n",
       "      <th>Lat</th>\n",
       "      <th>Lon</th>\n",
       "    </tr>\n",
       "  </thead>\n",
       "  <tbody>\n",
       "    <tr>\n",
       "      <th>0</th>\n",
       "      <td>Henry County Day Treatment</td>\n",
       "      <td>Abbeville</td>\n",
       "      <td>AL</td>\n",
       "      <td>36310</td>\n",
       "      <td>31.595148</td>\n",
       "      <td>-85.208852</td>\n",
       "    </tr>\n",
       "    <tr>\n",
       "      <th>1</th>\n",
       "      <td>SpectraCare</td>\n",
       "      <td>Abbeville</td>\n",
       "      <td>AL</td>\n",
       "      <td>36310</td>\n",
       "      <td>31.595148</td>\n",
       "      <td>-85.208852</td>\n",
       "    </tr>\n",
       "    <tr>\n",
       "      <th>2</th>\n",
       "      <td>Rehab Day Montezuma Complex</td>\n",
       "      <td>Andalusia</td>\n",
       "      <td>AL</td>\n",
       "      <td>36420</td>\n",
       "      <td>31.172401</td>\n",
       "      <td>-86.565077</td>\n",
       "    </tr>\n",
       "    <tr>\n",
       "      <th>3</th>\n",
       "      <td>South Central Alabama CMHC</td>\n",
       "      <td>Andalusia</td>\n",
       "      <td>AL</td>\n",
       "      <td>36420</td>\n",
       "      <td>31.172401</td>\n",
       "      <td>-86.565077</td>\n",
       "    </tr>\n",
       "    <tr>\n",
       "      <th>4</th>\n",
       "      <td>Grandview Behavioral Health Center</td>\n",
       "      <td>Anniston</td>\n",
       "      <td>AL</td>\n",
       "      <td>36201</td>\n",
       "      <td>33.649160</td>\n",
       "      <td>-85.879642</td>\n",
       "    </tr>\n",
       "  </tbody>\n",
       "</table>\n",
       "</div>"
      ],
      "text/plain": [
       "                                 Name       City State    Zip        Lat  \\\n",
       "0          Henry County Day Treatment  Abbeville    AL  36310  31.595148   \n",
       "1                         SpectraCare  Abbeville    AL  36310  31.595148   \n",
       "2         Rehab Day Montezuma Complex  Andalusia    AL  36420  31.172401   \n",
       "3          South Central Alabama CMHC  Andalusia    AL  36420  31.172401   \n",
       "4  Grandview Behavioral Health Center   Anniston    AL  36201  33.649160   \n",
       "\n",
       "         Lon  \n",
       "0 -85.208852  \n",
       "1 -85.208852  \n",
       "2 -86.565077  \n",
       "3 -86.565077  \n",
       "4 -85.879642  "
      ]
     },
     "execution_count": 4,
     "metadata": {},
     "output_type": "execute_result"
    }
   ],
   "source": [
    "centers_df.head()"
   ]
  },
  {
   "cell_type": "code",
   "execution_count": 5,
   "metadata": {},
   "outputs": [],
   "source": [
    "gmaps.configure(api_key = gkey)"
   ]
  },
  {
   "cell_type": "code",
   "execution_count": 6,
   "metadata": {},
   "outputs": [
    {
     "data": {
      "application/vnd.jupyter.widget-view+json": {
       "model_id": "784077eefcb545b79ddd693eba249b74",
       "version_major": 2,
       "version_minor": 0
      },
      "text/plain": [
       "Figure(layout=FigureLayout(height='420px'))"
      ]
     },
     "metadata": {},
     "output_type": "display_data"
    }
   ],
   "source": [
    "locations = centers_df[['Lat', 'Lon']].drop_duplicates()\n",
    "fig = gmaps.figure()\n",
    "num_centers = centers_df.groupby(by = 'Zip').count()['Name']\n",
    "heat_layer = gmaps.heatmap_layer(locations, weights = num_centers, max_intensity = 75, point_radius = 6)\n",
    "fig.add_layer(heat_layer)\n",
    "fig"
   ]
  },
  {
   "cell_type": "code",
   "execution_count": 7,
   "metadata": {},
   "outputs": [
    {
     "data": {
      "text/plain": [
       "State\n",
       "AK     80\n",
       "AL    133\n",
       "AR    204\n",
       "AZ    305\n",
       "CA    670\n",
       "CO    150\n",
       "CT    205\n",
       "DC     36\n",
       "DE     23\n",
       "FL    408\n",
       "GA    185\n",
       "HI     37\n",
       "IA    130\n",
       "ID    168\n",
       "IL    327\n",
       "IN    262\n",
       "KS     99\n",
       "KY    201\n",
       "LA    164\n",
       "MA    266\n",
       "MD    247\n",
       "ME    172\n",
       "MI    304\n",
       "MN    201\n",
       "MO    190\n",
       "MS    143\n",
       "MT     70\n",
       "NC    252\n",
       "ND     28\n",
       "NE    109\n",
       "NH     48\n",
       "NJ    256\n",
       "NM     60\n",
       "NV     46\n",
       "NY    723\n",
       "OH    511\n",
       "OK    131\n",
       "OR    115\n",
       "PA    508\n",
       "PR     66\n",
       "RI     52\n",
       "SC     96\n",
       "SD     43\n",
       "TN    231\n",
       "TX    306\n",
       "UT     96\n",
       "VA    226\n",
       "VT     56\n",
       "WA    231\n",
       "WI    359\n",
       "WV    106\n",
       "WY     46\n",
       "Name: Name, dtype: int64"
      ]
     },
     "execution_count": 7,
     "metadata": {},
     "output_type": "execute_result"
    }
   ],
   "source": [
    "state_df = centers_df.loc[~centers_df['State'].isin(['GU', 'VI', 'AS'])].groupby(by = 'State')['Name'].count()\n",
    "state_df.to_csv('resources/centers_bystate.csv')\n",
    "state_df"
   ]
  },
  {
   "cell_type": "code",
   "execution_count": 8,
   "metadata": {},
   "outputs": [
    {
     "name": "stdout",
     "output_type": "stream",
     "text": [
      "80\n",
      "133\n",
      "204\n",
      "305\n",
      "670\n",
      "150\n",
      "205\n",
      "36\n",
      "23\n",
      "408\n",
      "185\n",
      "37\n",
      "130\n",
      "168\n",
      "327\n",
      "262\n",
      "99\n",
      "201\n",
      "164\n",
      "266\n",
      "247\n",
      "172\n",
      "304\n",
      "201\n",
      "190\n",
      "143\n",
      "70\n",
      "252\n",
      "28\n",
      "109\n",
      "48\n",
      "256\n",
      "60\n",
      "46\n",
      "723\n",
      "511\n",
      "131\n",
      "115\n",
      "508\n",
      "66\n",
      "52\n",
      "96\n",
      "43\n",
      "231\n",
      "306\n",
      "96\n",
      "226\n",
      "56\n",
      "231\n",
      "359\n",
      "106\n",
      "46\n"
     ]
    },
    {
     "data": {
      "application/vnd.jupyter.widget-view+json": {
       "model_id": "19e863bbcf2d4bed837670f1dbf0d65a",
       "version_major": 2,
       "version_minor": 0
      },
      "text/plain": [
       "Figure(layout=FigureLayout(height='420px'))"
      ]
     },
     "metadata": {},
     "output_type": "display_data"
    }
   ],
   "source": [
    "state_geojson = gmaps.geojson_geometries.load_geometry('us-states')\n",
    "fig = gmaps.figure()\n",
    "min_centers = min(state_df)\n",
    "max_centers = max(state_df)\n",
    "range_centers = min_centers - max_centers\n",
    "\n",
    "def calculate_color(count):\n",
    "    normalized = (count - min_centers) / range_centers\n",
    "    mpl_color = viridis(normalized)\n",
    "    gmaps_color = to_hex(mpl_color, keep_alpha = False)\n",
    "    return gmaps_color\n",
    "\n",
    "colors = []\n",
    "for state in state_df:\n",
    "    print(state)\n",
    "\n",
    "centers_layer = gmaps.geojson_layer(state_geojson)\n",
    "fig.add_layer(centers_layer)\n",
    "fig"
   ]
  },
  {
   "cell_type": "code",
   "execution_count": null,
   "metadata": {},
   "outputs": [],
   "source": []
  }
 ],
 "metadata": {
  "kernelspec": {
   "display_name": "Python (PythonData)",
   "language": "python",
   "name": "myenv"
  },
  "language_info": {
   "codemirror_mode": {
    "name": "ipython",
    "version": 3
   },
   "file_extension": ".py",
   "mimetype": "text/x-python",
   "name": "python",
   "nbconvert_exporter": "python",
   "pygments_lexer": "ipython3",
   "version": "3.6.7"
  }
 },
 "nbformat": 4,
 "nbformat_minor": 2
}
