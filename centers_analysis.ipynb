{
 "cells": [
  {
   "cell_type": "code",
   "execution_count": 4,
   "metadata": {},
   "outputs": [],
   "source": [
    "import pandas as pd"
   ]
  },
  {
   "cell_type": "code",
   "execution_count": 5,
   "metadata": {},
   "outputs": [],
   "source": [
    "# First, we need to clean the horribly formatted initial dataset into something usable.\n",
    "\n",
    "path = 'resources/centers-uncleaned.csv'\n",
    "with open(path, 'r') as csv_file:\n",
    "    output = csv_file.read()\n",
    "output = output.split('\\n')\n",
    "\n",
    "all_name = []\n",
    "all_city = []\n",
    "all_state = []\n",
    "all_zip = []\n",
    "\n",
    "for i in range(len(output)):\n",
    "    info = output[i].split(';')\n",
    "    try:\n",
    "        name = info[1]\n",
    "        # This loop searches for any entry that looks like a city / state / zip combination; if one is found it's saved, otherwise we ignore that row, since we don't have any useful information about that center.\n",
    "        for j in range(2, len(info) + 1):\n",
    "            try:\n",
    "                if(all(x in '1234567890' for x in info[j][-5:])):\n",
    "                    area = info[j]\n",
    "                    break\n",
    "            except:\n",
    "                pass\n",
    "        \n",
    "        city = area.split(',')[0]\n",
    "        state = area.split(',')[1][1:].split()[0]\n",
    "        zipcode = area.split(',')[1][1:].split()[1]\n",
    "        all_name.append(name)\n",
    "        all_city.append(city)\n",
    "        all_state.append(state)\n",
    "        all_zip.append(zipcode)\n",
    "    except:\n",
    "        pass"
   ]
  },
  {
   "cell_type": "code",
   "execution_count": 6,
   "metadata": {},
   "outputs": [],
   "source": [
    "centers_df = pd.DataFrame({'Name' : all_name, 'City' : all_city, 'State' : all_state, 'Zip' : all_zip})\n",
    "out_path = 'resources/centers.csv'\n",
    "centers_df.to_csv(out_path)"
   ]
  },
  {
   "cell_type": "code",
   "execution_count": null,
   "metadata": {},
   "outputs": [],
   "source": []
  }
 ],
 "metadata": {
  "kernelspec": {
   "display_name": "Python (PythonData)",
   "language": "python",
   "name": "myenv"
  },
  "language_info": {
   "codemirror_mode": {
    "name": "ipython",
    "version": 3
   },
   "file_extension": ".py",
   "mimetype": "text/x-python",
   "name": "python",
   "nbconvert_exporter": "python",
   "pygments_lexer": "ipython3",
   "version": "3.6.7"
  }
 },
 "nbformat": 4,
 "nbformat_minor": 2
}
